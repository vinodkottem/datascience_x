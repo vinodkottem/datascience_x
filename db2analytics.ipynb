{
    "nbformat": 4, 
    "metadata": {
        "language_info": {
            "pygments_lexer": "scala", 
            "name": "scala", 
            "mimetype": "text/x-scala", 
            "version": "2.11.8", 
            "codemirror_mode": "text/x-scala", 
            "file_extension": ".scala"
        }, 
        "kernelspec": {
            "language": "scala", 
            "name": "scala-spark20", 
            "display_name": "Scala 2.11 with Spark 2.0"
        }
    }, 
    "cells": [
        {
            "execution_count": 2, 
            "metadata": {
                "collapsed": true
            }, 
            "source": "var sqlContext = new org.apache.spark.sql.SQLContext(sc)\n", 
            "outputs": [], 
            "cell_type": "code"
        }
    ], 
    "nbformat_minor": 1
}