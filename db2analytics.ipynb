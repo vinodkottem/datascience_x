{
    "nbformat_minor": 1, 
    "metadata": {
        "language_info": {
            "pygments_lexer": "scala", 
            "name": "scala", 
            "file_extension": ".scala", 
            "mimetype": "text/x-scala", 
            "version": "2.11.8", 
            "codemirror_mode": "text/x-scala"
        }, 
        "kernelspec": {
            "language": "scala", 
            "name": "scala-spark20", 
            "display_name": "Scala 2.11 with Spark 2.0"
        }
    }, 
    "cells": [
        {
            "execution_count": 1, 
            "source": "var sqlContext = new org.apache.spark.sql.SQLContext(sc)", 
            "metadata": {
                "collapsed": true
            }, 
            "cell_type": "code", 
            "outputs": []
        }, 
        {
            "execution_count": 6, 
            "source": "// The code was removed by DSX for sharing.", 
            "metadata": {}, 
            "cell_type": "code", 
            "outputs": [
                {
                    "execution_count": 6, 
                    "data": {
                        "text/plain": "Array([10072245    ,10072315,IND ,0022 ,INC105 INC109 INC119 INC133             ,http://www.weather.gov/regsci/gis/text/INDTOR.1410072245    ,1,MULTIPOLYGON (((-86.3100000 39.3800000, -86.6900000 39.5500001, -86.8000001 39.4900001, -86.6300000 39.2400001, -86.3100000 39.3800000)))], [10072249    ,10072320,LMK ,0020 ,KYC017                                  ,http://www.weather.gov/regsci/gis/text/LMKTOR.1410072249    ,2,MULTIPOLYGON (((-83.9799999 38.1800000, -83.9700000 38.2100000, -83.9900001 38.2200000, -83.9900001 38.1999999, -84.0099999 38.2200000, -84.0300000 38.2200000, -84.0600000 38.2299999, -84.3600001 38.1900000, -84.3600001 38.1800000, -84.3700000 38.1600000, -84.3800000 38.1100001, -84.1900000 38.0900000, -84.0900000 38.1100001, -83.97..."
                    }, 
                    "metadata": {}, 
                    "output_type": "execute_result"
                }
            ]
        }, 
        {
            "execution_count": null, 
            "source": "", 
            "metadata": {
                "collapsed": true
            }, 
            "cell_type": "code", 
            "outputs": []
        }
    ], 
    "nbformat": 4
}